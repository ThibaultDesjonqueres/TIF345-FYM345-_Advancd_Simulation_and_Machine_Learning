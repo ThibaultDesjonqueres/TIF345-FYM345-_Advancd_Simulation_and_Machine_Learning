{
  "nbformat": 4,
  "nbformat_minor": 0,
  "metadata": {
    "colab": {
      "provenance": [],
      "mount_file_id": "1V0rMok69EhKXxIx567ydfnCpKnHU0tIh",
      "authorship_tag": "ABX9TyMWo8TbIX3UUaNetsuMOCla",
      "include_colab_link": true
    },
    "kernelspec": {
      "name": "python3",
      "display_name": "Python 3"
    },
    "language_info": {
      "name": "python"
    }
  },
  "cells": [
    {
      "cell_type": "markdown",
      "metadata": {
        "id": "view-in-github",
        "colab_type": "text"
      },
      "source": [
        "<a href=\"https://colab.research.google.com/github/ThibaultDesjonqueres/TIF345-FYM345-_Advancd_Simulation_and_Machine_Learning/blob/main/Project1.ipynb\" target=\"_parent\"><img src=\"https://colab.research.google.com/assets/colab-badge.svg\" alt=\"Open In Colab\"/></a>"
      ]
    },
    {
      "cell_type": "code",
      "execution_count": null,
      "metadata": {
        "id": "AWiw2Yg6RAJs"
      },
      "outputs": [],
      "source": []
    }
  ]
}